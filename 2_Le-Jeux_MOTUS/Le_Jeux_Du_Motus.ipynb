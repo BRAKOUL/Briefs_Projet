{
 "cells": [
  {
   "cell_type": "code",
   "execution_count": 10,
   "metadata": {},
   "outputs": [
    {
     "name": "stdout",
     "output_type": "stream",
     "text": [
      "SONGER\n"
     ]
    }
   ],
   "source": [
    "import random\n",
    "\n",
    "Liste_Mot = [\"ACTEUR\", \"AVIRON\", \"BOXEUR\", \"BRONZE\", \"BUDGET\", \n",
    "             \"CARTON\", \"CHAQUE\", \"CHEVAL\", \"CIMENT\", \"CLIENT\", \n",
    "             \"COMPTE\", \"CONTRE\", \"CUPIDE\", \"DESIGN\", \"DICTER\", \n",
    "             \"DOSAGE\", \"DOUCHE\", \"DROITE\", \"EXPORT\", \"FLAQUE\", \n",
    "             \"FORAGE\", \"GLAIVE\", \"GRAINE\", \"GROUPE\", \"JARDIN\", \n",
    "             \"JUNGLE\", \"LUCIDE\", \"MANCHE\", \"MARQUE\", \"MIRAGE\", \n",
    "             \"MOUCHE\", \"NIVEAU\", \"NOVICE\", \"OISEAU\", \"PAQUET\", \n",
    "             \"PILOTE\", \"PLANTE\", \"POTEAU\", \"PROJET\", \"PUBLIC\", \n",
    "             \"REGAIN\", \"RYTHME\", \"SATIRE\", \"SENTIR\", \"SIMPLE\", \n",
    "             \"SONGER\", \"SOUPLE\", \"SQUARE\"]\n",
    "Mot_a_Trouver = random.choice(Liste_Mot)\n",
    "\n",
    "print(Mot_a_Trouver)"
   ]
  },
  {
   "cell_type": "code",
   "execution_count": null,
   "metadata": {},
   "outputs": [
    {
     "name": "stdout",
     "output_type": "stream",
     "text": [
      "['ACTEUR', 'AVIRON', 'BOXEUR', 'BRONZE', 'BUDGET']\n",
      "Entrez votre mot :action\n",
      "a c t i O?n \n",
      "Ils vous reste  essai(s) avant la fin\n",
      "Entrez votre mot :actrice\n",
      "......\n",
      "Entrez votre mot :ACTRICE\n",
      "......\n",
      "Entrez votre mot :ACTEUR\n",
      "a c t E#U#R#\n",
      "Ils vous reste  essai(s) avant la fin\n"
     ]
    }
   ],
   "source": [
    "import random\n",
    "\n",
    "Liste_Mot = [\"ACTEUR\", \"AVIRON\", \"BOXEUR\", \"BRONZE\", \"BUDGET\"]\n",
    "mot_a_Trouver = random.choice(Liste_Mot)\n",
    "print(Liste_Mot)\n",
    "compteur_Tours=0\n",
    "compteur_essai = 8\n",
    "while(compteur_Tours<8):\n",
    "    mot_user = input(\"Entrez votre mot :\").upper()\n",
    "    mot = \"\"\n",
    "    if len(mot_user)!=6:\n",
    "        print(\"......\")\n",
    "    elif mot_user==mot_a_Trouver:\n",
    "        test=True\n",
    "        print(\"Bravo vous avez trouvé le mot\",mot_user)\n",
    "        break\n",
    "    else:\n",
    "        for i in range(6):\n",
    "            if mot_user[i]==mot_a_Trouver[i]:\n",
    "                mot+=mot_user[i]+\"#\"\n",
    "            elif mot_user[i] in mot_a_Trouver:\n",
    "                mot+=mot_user[i]+\"?\"\n",
    "            else:\n",
    "                mot+=mot_user[i].lower()+\" \"\n",
    "        print(mot)\n",
    "        print(\"Ils vous reste \",\"essai(s) avant la fin\")\n",
    "    compteur_Tours+=1\n",
    "if mot_a_Trouver == mot_user:\n",
    "    print(\"Vous avez Gagné !!\")\n",
    "else:\n",
    "    print(\"Vous avez Perdu...\")"
   ]
  },
  {
   "cell_type": "code",
   "execution_count": null,
   "metadata": {},
   "outputs": [],
   "source": []
  }
 ],
 "metadata": {
  "kernelspec": {
   "display_name": "Python 3",
   "language": "python",
   "name": "python3"
  },
  "language_info": {
   "codemirror_mode": {
    "name": "ipython",
    "version": 3
   },
   "file_extension": ".py",
   "mimetype": "text/x-python",
   "name": "python",
   "nbconvert_exporter": "python",
   "pygments_lexer": "ipython3",
   "version": "3.8.8"
  }
 },
 "nbformat": 4,
 "nbformat_minor": 4
}
