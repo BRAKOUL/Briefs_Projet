{
 "cells": [
  {
   "cell_type": "code",
   "execution_count": null,
   "id": "38ac554d",
   "metadata": {},
   "outputs": [],
   "source": [
    "# Brief projet SimplonSearch"
   ]
  },
  {
   "cell_type": "code",
   "execution_count": null,
   "id": "772eb499",
   "metadata": {},
   "outputs": [],
   "source": [
    "# EXO 1"
   ]
  },
  {
   "cell_type": "code",
   "execution_count": 27,
   "id": "ca561c34",
   "metadata": {},
   "outputs": [
    {
     "data": {
      "text/plain": [
       "[' trois ', ' tris ']"
      ]
     },
     "execution_count": 27,
     "metadata": {},
     "output_type": "execute_result"
    }
   ],
   "source": [
    "from re import *\n",
    "\n",
    "\n",
    "def almost(mot, s):\n",
    "    s = \" \" + sub(\"[,.]\", \"\", s) + \" \"\n",
    "    found = findall(\" \"+mot+\" \", s)\n",
    "    for i in range(len(mot)):\n",
    "        motif = mot[:i]+mot[i+1:]\n",
    "        found += findall(\" \"+motif+\" \", s)\n",
    "    return found\n",
    "\n",
    "s = \"Les etrois tris, lys trois gros, les troisx roi.\"\n",
    "\n",
    "almost(\"trois\", s)\n",
    "\n",
    "        \n",
    "        "
   ]
  },
  {
   "cell_type": "code",
   "execution_count": null,
   "id": "5a4a555c",
   "metadata": {},
   "outputs": [],
   "source": [
    "s = \"Les etrois tris, lys trois gros, les troisx roi.\"\n",
    "def almost(mot,s):\n",
    "    s = \"Les etrois tris, lys trois gros, les troisx roi.\"\n",
    "    mot = \"trois\"\n",
    "    s = \" \" +s+ \" \"\n",
    "    s = s.replace(',', '')\n",
    "    s = s.replace('.', '')\n",
    "    for i in range(len(mot)):\n",
    "        found = mot[:i] + mot[i+1:]\n",
    "        "
   ]
  },
  {
   "cell_type": "code",
   "execution_count": null,
   "id": "13576b53",
   "metadata": {},
   "outputs": [],
   "source": [
    "# chaque commence par un espace et se termine par un espace\n",
    "# premier mot ne commence pas par un espace: on crée soi-memme^un espace\n",
    "# mot en fin de chaine se termine par un point donc y supprimer les points\n",
    "\n",
    "    "
   ]
  },
  {
   "cell_type": "code",
   "execution_count": 22,
   "id": "79444dc5",
   "metadata": {},
   "outputs": [
    {
     "name": "stdout",
     "output_type": "stream",
     "text": [
      "rois\n",
      "tois\n",
      "tris\n",
      "tros\n",
      "troi\n",
      " Les etrois tris lys trois gros les troisx roi \n"
     ]
    }
   ],
   "source": [
    "s = \"Les etrois tris, lys trois gros, les troisx roi.\"\n",
    "mot = \"trois\"\n",
    "s = \" \" +s+ \" \"\n",
    "s = s.replace(',', '')\n",
    "s = s.replace('.', '')\n",
    "for i in range(len(mot)):\n",
    "    print(mot[:i] + mot[i+1:])\n",
    "    \n",
    "print(s)\n"
   ]
  },
  {
   "cell_type": "code",
   "execution_count": null,
   "id": "7c5d09b6",
   "metadata": {},
   "outputs": [],
   "source": [
    "# EXO 2 / Par Antony\n",
    "# Cas 1: une lettre en plus à la fin\n",
    "\n",
    "motif = \"\\\" + mot +\"[^\\s]?\\s\"\n"
   ]
  },
  {
   "cell_type": "code",
   "execution_count": null,
   "id": "cec17bb3",
   "metadata": {},
   "outputs": [],
   "source": [
    "# Cas n° 2 : une lettre remplacée ou une lettre manquante\n"
   ]
  },
  {
   "cell_type": "code",
   "execution_count": null,
   "id": "0a6fdbd6",
   "metadata": {},
   "outputs": [],
   "source": [
    "for i in range(len(mot)):\n",
    "s = \"\"\n",
    "motif =\"\\s\"+mot[:i] + \"[^\"+mot[i]+\"]?\" + mot[:i+1]+\"\\s\""
   ]
  },
  {
   "cell_type": "code",
   "execution_count": null,
   "id": "66728580",
   "metadata": {},
   "outputs": [],
   "source": [
    "# Cas n°3: une lettre en plus\n",
    "motif = \"\\s\" + mot[:i]+\"[^\\s]\"+ mot[i:]+\"\\s\"\n"
   ]
  },
  {
   "cell_type": "code",
   "execution_count": null,
   "id": "9d2caa88",
   "metadata": {},
   "outputs": [],
   "source": []
  },
  {
   "cell_type": "code",
   "execution_count": null,
   "id": "205f970e",
   "metadata": {},
   "outputs": [],
   "source": [
    "# EXO 3 : correction par Mohammad\n",
    "s = ''\n",
    "def score(p,s):\n",
    "    score = 0\n",
    "    s = s.replace(\",\", \"\")\n",
    "    s = s.replace(\".\", \"\")\n",
    "    \n",
    "    p = p.replace(\",\", \"\")\n",
    "    p = p.replace(\".\", \"\")\n",
    "    p.liste = p.split()\n",
    "    \n",
    "    for word in p_liste:\n",
    "        liste_found = plusLarge(word, s)\n",
    "        \n",
    "        for words in liste_found:\n",
    "            if words == \" \" + word + \" \":\n",
    "                score += 5\n",
    "                else:\n",
    "                    score += 1\n",
    "        return score\n",
    "\n",
    "    p = 'petit bonhomme ...'\n",
    "    s = 'ce superbe matelat'"
   ]
  },
  {
   "cell_type": "code",
   "execution_count": null,
   "id": "ced0590e",
   "metadata": {},
   "outputs": [],
   "source": [
    "# Correction du lundi 17MAI"
   ]
  },
  {
   "cell_type": "code",
   "execution_count": null,
   "id": "fc793e17",
   "metadata": {},
   "outputs": [],
   "source": [
    "# Envoyé par Rafik\n",
    "def pluslarge(mot, s):\n",
    "    z = \" \"+sub(\"[,.]\", \"\", s)+ \" \"\n",
    "    found = findall(\"\\s\"+mot+\"[^\\s]?\\s\", z)\n",
    "    for i in range(len(mot)):\n",
    "        # Je cherche le mot avec une lettre remplacé\n",
    "        motif = \"\\s\"+mot[:i]+\"[^\"+mot[i]+\"]?\"\n",
    "        motif += mot[i+1:]+\"\\s\"\n",
    "        found += findall(motif, \" \"+z)\n",
    "        # Je cherche le mot avec une lettre en plus\n",
    "        motif += \"\\s\"+mot[:i]+\"[^\\s]\"+mot[i:]+\"\\s\"\n",
    "        found += findall(motif, \" \"+z)\n",
    "    return found\n",
    "\n",
    "print(pluslarge(\"trois\", s))\n",
    "print(pluslarge(\"les\", s))"
   ]
  },
  {
   "cell_type": "code",
   "execution_count": null,
   "id": "63a60584",
   "metadata": {},
   "outputs": [],
   "source": [
    "# EXO 4\n",
    "    # code de base fourni par Rafik\n",
    "def score(p, s):\n",
    "    sc = 0\n",
    "    q = \" \"+sub(\"[,.]\",\"\", p)+\" \"\n",
    "    z = \" \" + sub(\"[,.]\",\"\", s)\n",
    "    for x in p.split():\n",
    "        sc += len(pluslarge(x, s))\n",
    "        sc += 4*z.count(\" \"+x+\" \")\n",
    "    return sc\n",
    "p=\"Le petit bonhomme en mousse\"\n",
    "t = \"Ce superbe matelas en mousse naturelle\"\n",
    "print(score(\"les trois gros\", s))\n",
    "print(score(p, t))"
   ]
  },
  {
   "cell_type": "code",
   "execution_count": null,
   "id": "4281630c",
   "metadata": {},
   "outputs": [],
   "source": [
    "# Correction guidée / Lukas\n",
    "def score(p, s):\n",
    "    sc = 0\n",
    "    q = \" \"+sub(\"[,.]\",\"\", p)+\" \"\n",
    "    z = \" \" + sub(\"[,.]\",\"\", s)\n",
    "    mot = p.split()\n",
    "    for x in mot:\n",
    "        for i in pluslarge(x, z):\n",
    "            sc += 5 if i in q else 1\n",
    "    for y in range(len(mot)-1):\n",
    "        if \" \" + mot[y] + \" \" + mot[y+1] + \" \" in z:\n",
    "            sc += 20 \n",
    "\n",
    "        \n",
    "            #sc += len(pluslarge(x, s))\n",
    "            #sc += 4*z.count(\" \"+x+\" \")\n",
    "    return sc\n",
    "p=\"Le petit bonhomme en mousse\"\n",
    "t = \"Ce superbe matelas en mousse naturelle\"\n",
    "print(score(\"les trois gros\", s))\n",
    "print(score(p, t))"
   ]
  },
  {
   "cell_type": "code",
   "execution_count": null,
   "id": "477daf44",
   "metadata": {},
   "outputs": [],
   "source": [
    "# EXO Partie facultative"
   ]
  },
  {
   "cell_type": "code",
   "execution_count": null,
   "id": "e2efa420",
   "metadata": {},
   "outputs": [],
   "source": [
    "# Voir image solution Yoan\n",
    "import os\n",
    "liste_des_textes = os.listdir(\"JDD/Textes\")\n",
    "liste_des_textes_ouverts = []\n",
    "dico_final = {}\n",
    "\n",
    "for text in liste_des_textes :\n",
    "    liste_des_textes_ouverts.append(open(\"JDD/Textes/\" + text, encoding = \"utf-8\").read()) \n",
    "    \n",
    "for i in range(len(liste_des_textes_ouverts)) :\n",
    "    dico_final[liste_des_textes[i]] = score(\"analyse et visualisation\", liste_des_textes_ouverts[i])\n",
    "\n",
    "print(dico_final)\n",
    "\n",
    "# Code Rafik\n",
    "import os\n",
    "liste = os.listdir('Jeux_de_donnees/textes')\n",
    "results={}\n",
    "\n",
    "recherche = \"analyse et visualisation\"\n",
    "\n",
    "for file in liste:\n",
    "    filin = open(\"Jeux_de_donnees/textes/\"+file, \"r\", encoding=\"utf-8\")\n",
    "    filin = filin.read()\n",
    "    results[file] = score2(recherche, filin)\n",
    "    \n",
    "tuples = sorted(results.items(), key=lambda item: item[1], reverse=True)\n",
    "\n",
    "for i, j in tuples :\n",
    "    print(i + \" : \" + str(j))"
   ]
  },
  {
   "cell_type": "code",
   "execution_count": null,
   "id": "c110c565",
   "metadata": {},
   "outputs": [],
   "source": [
    "# Solution par Yanice\n",
    "import os\n",
    "from simplonutils import score2\n",
    "from typing import Tuple\n",
    "class File:\n",
    "    content: str = \"\"\n",
    "    filename: str = \"\"\n",
    "    path: str = \"\"\n",
    "    def __init__(self, path, filename) -> None:\n",
    "        self.filename = filename\n",
    "        self.path = path\n",
    "        self.read()\n",
    "\n",
    "    def read(self) -> str:\n",
    "         with open(self.path + '/' + self.filename, encoding=\"utf-8\") as f:\n",
    "             for line in f.readlines():\n",
    "                 self.content += line\n",
    "\n",
    "\n",
    "def search(data: list[File]):\n",
    "    scores: dict[str, int] = {}\n",
    "    q = input('Taper votre recherche : (-1 pour quitter) ')\n",
    "    if q == '-1':\n",
    "        exit()\n",
    "    for file in data:\n",
    "        scores[file.filename] = score2(q, file.content)\n",
    "    ls = sorted(scores.items(), key=lambda item: item[1])\n",
    "    ls.reverse()\n",
    "    scores = dict(ls)\n",
    "    print(scores)\n",
    "    search(data)\n",
    "    \n",
    "\n",
    "def main():\n",
    "    print(\"Bienvenue dans le moteur de recherche SIMPLON !\")\n",
    "    files, path = getfiles()\n",
    "    data: list[File] = []\n",
    "    print(\"Chargement en cours...\")\n",
    "    for f in files:\n",
    "        data.append(File(path, f))\n",
    "    print(\"Chargement terminé !\")\n",
    "    search(data)\n",
    "\n",
    "\n",
    "def getfiles() -> Tuple[list[str], str]:\n",
    "    path = input(\"Dans quelle dossier voulez-vous chercher ? (defaut: dummytext) \")\n",
    "    if path == '':\n",
    "        path = 'dummytext'\n",
    "    try:\n",
    "        files = os.listdir(path)\n",
    "        return files, path\n",
    "    except FileNotFoundError as e:\n",
    "        print(\"Le dossier n'existe pas, veuillez essayer à nouveau.\")\n",
    "    return getfiles()\n",
    "\n",
    "\n",
    "if __name__ == \"__main__\":\n",
    "    main()"
   ]
  },
  {
   "cell_type": "code",
   "execution_count": null,
   "id": "d8976c00",
   "metadata": {},
   "outputs": [],
   "source": []
  },
  {
   "cell_type": "code",
   "execution_count": null,
   "id": "9ff7bcd3",
   "metadata": {},
   "outputs": [],
   "source": []
  }
 ],
 "metadata": {
  "kernelspec": {
   "display_name": "Python 3",
   "language": "python",
   "name": "python3"
  },
  "language_info": {
   "codemirror_mode": {
    "name": "ipython",
    "version": 3
   },
   "file_extension": ".py",
   "mimetype": "text/x-python",
   "name": "python",
   "nbconvert_exporter": "python",
   "pygments_lexer": "ipython3",
   "version": "3.8.8"
  }
 },
 "nbformat": 4,
 "nbformat_minor": 5
}
