{
 "cells": [
  {
   "cell_type": "code",
   "execution_count": 1,
   "metadata": {},
   "outputs": [
    {
     "name": "stdout",
     "output_type": "stream",
     "text": [
      "1\n"
     ]
    }
   ],
   "source": [
    "a = 1\n",
    "print(a)"
   ]
  },
  {
   "cell_type": "code",
   "execution_count": 4,
   "metadata": {},
   "outputs": [
    {
     "name": "stdout",
     "output_type": "stream",
     "text": [
      "<class 'int'>\n",
      "<class 'float'>\n",
      "<class 'str'>\n"
     ]
    }
   ],
   "source": [
    "# Les types de variables\n",
    "a = 1\n",
    "print(type(a))\n",
    "b = 1.0\n",
    "print(type(b))\n",
    "c = 'bonjour'\n",
    "print(type(c))"
   ]
  },
  {
   "cell_type": "code",
   "execution_count": 7,
   "metadata": {},
   "outputs": [
    {
     "name": "stdout",
     "output_type": "stream",
     "text": [
      "4.5\n",
      "<class 'float'>\n",
      "4\n",
      "<class 'int'>\n"
     ]
    }
   ],
   "source": [
    "# operation entre type différents\n",
    "a = 9\n",
    "b = a/2\n",
    "print(b)\n",
    "print(type(b))\n",
    "b = a//2\n",
    "print(b)\n",
    "print(type(b))"
   ]
  },
  {
   "cell_type": "code",
   "execution_count": 8,
   "metadata": {},
   "outputs": [
    {
     "name": "stdout",
     "output_type": "stream",
     "text": [
      "124\n",
      "<class 'int'>\n"
     ]
    }
   ],
   "source": [
    "# convertir un type en un autre - str to int\n",
    "a = '123'\n",
    "b = int(a)\n",
    "print(b+1)\n",
    "print(type(b))"
   ]
  },
  {
   "cell_type": "code",
   "execution_count": 9,
   "metadata": {},
   "outputs": [
    {
     "name": "stdout",
     "output_type": "stream",
     "text": [
      "124.5\n",
      "<class 'float'>\n"
     ]
    }
   ],
   "source": [
    "# convertir un type en un autre - str to float\n",
    "a = '123.5'\n",
    "b = float(a)\n",
    "print(b+1)\n",
    "print(type(b))"
   ]
  },
  {
   "cell_type": "code",
   "execution_count": 12,
   "metadata": {},
   "outputs": [
    {
     "name": "stdout",
     "output_type": "stream",
     "text": [
      "<class 'int'>\n",
      "123\n"
     ]
    }
   ],
   "source": [
    "# Convertir un type en un autre - float to int\n",
    "a = 123.5\n",
    "b = int(a)\n",
    "print(type(b))\n",
    "print(b)"
   ]
  },
  {
   "cell_type": "code",
   "execution_count": 13,
   "metadata": {},
   "outputs": [
    {
     "name": "stdout",
     "output_type": "stream",
     "text": [
      "<class 'str'>\n",
      "<class 'str'>\n",
      "7 3.14\n"
     ]
    }
   ],
   "source": [
    "# Convertir un type en un autre - int/float to str\n",
    "a = 7\n",
    "b = 3.14\n",
    "\n",
    "c = str(a)\n",
    "d = str(b)\n",
    "\n",
    "print(type(c))\n",
    "print(type(d))\n",
    "print(c,d)"
   ]
  },
  {
   "cell_type": "code",
   "execution_count": 19,
   "metadata": {},
   "outputs": [
    {
     "name": "stdout",
     "output_type": "stream",
     "text": [
      "False\n",
      "True\n",
      "False\n",
      "True\n",
      "False\n"
     ]
    }
   ],
   "source": [
    "# Determiner la valeur retournée, True ou False, par chaque expression conditionnelle:\n",
    "A = B = True\n",
    "C = D = False\n",
    "print((A or B) and (C or D))\n",
    "print(A or (B and C))\n",
    "print (A and B and (C or D))\n",
    "print((A and B) or (not C))\n",
    "print((not A) or D)"
   ]
  },
  {
   "cell_type": "code",
   "execution_count": 25,
   "metadata": {},
   "outputs": [
    {
     "name": "stdout",
     "output_type": "stream",
     "text": [
      "7\n",
      "-2\n",
      "7\n",
      "17\n",
      "8.988\n"
     ]
    }
   ],
   "source": [
    "# Donnez les valeurs retournées par chacune des expressions suivantes\n",
    "print( abs(-3) + max(3,4))\n",
    "print( min(4,8,0,-2))\n",
    "print(max(min(7,8), min(4,6)))\n",
    "print(round(8.324) + round(8.88))\n",
    "print(round(8.98795136,3))"
   ]
  },
  {
   "cell_type": "code",
   "execution_count": 43,
   "metadata": {},
   "outputs": [
    {
     "name": "stdout",
     "output_type": "stream",
     "text": [
      "325\n",
      "-1.837959396219991 4.171292729553325\n"
     ]
    }
   ],
   "source": [
    "from math import sqrt\n",
    "a = 3\n",
    "b = -7\n",
    "c = -23\n",
    "delta = b**2 - 4*a*c\n",
    "print(delta)\n",
    "X1 = (-b - (sqrt(delta)))/(2*a)\n",
    "X2 = (-b + (sqrt(delta)))/(2*a)\n",
    "print(X1, X2)"
   ]
  },
  {
   "cell_type": "code",
   "execution_count": 47,
   "metadata": {},
   "outputs": [
    {
     "name": "stdout",
     "output_type": "stream",
     "text": [
      "10\n",
      "15\n",
      "1570.7963267948965\n"
     ]
    }
   ],
   "source": [
    "from math import *\n",
    "r = int(input())\n",
    "h = int(input())\n",
    "v = (pi/3)*(r**2)*h\n",
    "print(v)"
   ]
  },
  {
   "cell_type": "code",
   "execution_count": null,
   "metadata": {},
   "outputs": [],
   "source": []
  }
 ],
 "metadata": {
  "kernelspec": {
   "display_name": "Python 3",
   "language": "python",
   "name": "python3"
  },
  "language_info": {
   "codemirror_mode": {
    "name": "ipython",
    "version": 3
   },
   "file_extension": ".py",
   "mimetype": "text/x-python",
   "name": "python",
   "nbconvert_exporter": "python",
   "pygments_lexer": "ipython3",
   "version": "3.8.8"
  }
 },
 "nbformat": 4,
 "nbformat_minor": 4
}
